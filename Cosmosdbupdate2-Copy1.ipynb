{
 "cells": [
  {
   "cell_type": "code",
   "execution_count": 2,
   "id": "ca4eb332",
   "metadata": {},
   "outputs": [
    {
     "name": "stdout",
     "output_type": "stream",
     "text": [
      "Collecting package metadata (current_repodata.json): ...working... done\n",
      "Solving environment: ...working... done\n",
      "\n",
      "# All requested packages already installed.\n",
      "\n",
      "\n",
      "Note: you may need to restart the kernel to use updated packages.\n"
     ]
    }
   ],
   "source": [
    "conda install -c microsoft azure-cosmos"
   ]
  },
  {
   "cell_type": "code",
   "execution_count": 8,
   "id": "afa35248",
   "metadata": {},
   "outputs": [],
   "source": [
    "import azure.cosmos.documents as documents\n",
    "import azure.cosmos.cosmos_client as cosmos_client\n",
    "import azure.cosmos.exceptions as exceptions\n",
    "from azure.cosmos.partition_key import PartitionKey\n",
    "import datetime\n",
    "import time; time.time()\n",
    "\n",
    "import config\n",
    "\n",
    "# ----------------------------------------------------------------------------------------------------------\n",
    "# Prerequistes -\n",
    "#\n",
    "# 1. An Azure Cosmos account -\n",
    "#    https://docs.microsoft.com/azure/cosmos-db/create-cosmosdb-resources-portal#create-an-azure-cosmos-db-account\n",
    "#\n",
    "# 2. Microsoft Azure Cosmos PyPi package -\n",
    "#    https://pypi.python.org/pypi/azure-cosmos/\n",
    "# ----------------------------------------------------------------------------------------------------------\n",
    "# Sample - demonstrates the basic CRUD operations on a Item resource for Azure Cosmos\n",
    "# ----------------------------------------------------------------------------------------------------------\n",
    "\n",
    "\n",
    "HOST = config.settings['host']\n",
    "MASTER_KEY = config.settings['master_key']\n",
    "DATABASE_ID = config.settings['database_id']\n",
    "CONTAINER_ID = config.settings['container_id']\n",
    "\n",
    "\n",
    "\n"
   ]
  },
  {
   "cell_type": "code",
   "execution_count": 9,
   "id": "125ef98e",
   "metadata": {},
   "outputs": [
    {
     "name": "stdout",
     "output_type": "stream",
     "text": [
      "Protest\n"
     ]
    }
   ],
   "source": [
    "print(CONTAINER_ID)"
   ]
  },
  {
   "cell_type": "code",
   "execution_count": 10,
   "id": "bc34c178",
   "metadata": {},
   "outputs": [
    {
     "ename": "NameError",
     "evalue": "name 'container' is not defined",
     "output_type": "error",
     "traceback": [
      "\u001b[1;31m---------------------------------------------------------------------------\u001b[0m",
      "\u001b[1;31mNameError\u001b[0m                                 Traceback (most recent call last)",
      "Input \u001b[1;32mIn [10]\u001b[0m, in \u001b[0;36m<cell line: 5>\u001b[1;34m()\u001b[0m\n\u001b[0;32m      2\u001b[0m query \u001b[38;5;241m=\u001b[39m \u001b[38;5;124m\"\u001b[39m\u001b[38;5;124mSELECT VALUE COUNT(1) FROM c \u001b[39m\u001b[38;5;124m\"\u001b[39m\n\u001b[0;32m      4\u001b[0m \u001b[38;5;66;03m# Execute the query and get the result\u001b[39;00m\n\u001b[1;32m----> 5\u001b[0m result \u001b[38;5;241m=\u001b[39m \u001b[43mcontainer\u001b[49m\u001b[38;5;241m.\u001b[39mquery_items(query\u001b[38;5;241m=\u001b[39mquery, enable_cross_partition_query\u001b[38;5;241m=\u001b[39m\u001b[38;5;28;01mTrue\u001b[39;00m)\n\u001b[0;32m      6\u001b[0m count \u001b[38;5;241m=\u001b[39m \u001b[38;5;28mlist\u001b[39m(result)[\u001b[38;5;241m0\u001b[39m]\n\u001b[0;32m      8\u001b[0m \u001b[38;5;66;03m# Print the count\u001b[39;00m\n",
      "\u001b[1;31mNameError\u001b[0m: name 'container' is not defined"
     ]
    }
   ],
   "source": [
    "# Define a SQL query that counts all documents\n",
    "query = \"SELECT VALUE COUNT(1) FROM c \"\n",
    "\n",
    "# Execute the query and get the result\n",
    "result = container.query_items(query=query, enable_cross_partition_query=True)\n",
    "count = list(result)[0]\n",
    "\n",
    "# Print the count\n",
    "print(f\"There are {count} documents in the collection.\")"
   ]
  },
  {
   "cell_type": "markdown",
   "id": "82c9da9e",
   "metadata": {},
   "source": [
    "# Valores de referencia para testear TTL\n",
    "\n",
    "### select count(1) from c where c._ts <> 1674043294\n",
    "### select count(1) from c where c._ts >= 1674045850  \n",
    "\n",
    "- Total documentos 419507   -- = 292  >   419215   < 0 \n",
    "\n",
    "- 1674043294 --> 292\n",
    "- 1674043295 --> 206 \n",
    "- 1674043296 --> 217\n",
    "- 1674043297 --> 142\n",
    "- 1674043299 --> 355\n",
    "- 1674043300 --> 77\n",
    "- 1674043301 --> 222\n",
    "- _ts >= 1674045850 --> 10518 \n"
   ]
  },
  {
   "cell_type": "markdown",
   "id": "50b8b4ea",
   "metadata": {},
   "source": [
    "### To calculate when a document will be deleted by TTL based on its _ts value, you need to know two things: \n",
    "-  _ts value itself and the \n",
    "- TTL value for the container or the item. \n",
    "\n",
    ". The _ts value is an epoch value in seconds since an item was last modified1. \n",
    "\n",
    ". The TTL value is the number of seconds after which an item expires2. \n",
    "\n",
    "To find out when a document will be deleted, you need to add the _ts value and the TTL value together and convert them to a human-readable date format. For example, if your _ts value is 1674043294 seconds and your TTL value is 86400 seconds (one day), then your document will be deleted on March 9th, 2023 at 11:01:34 GMT. You can use online tools like https://www.epochconverter.com/ to convert epoch values to dates easily."
   ]
  },
  {
   "cell_type": "markdown",
   "id": "e8ae2ad2",
   "metadata": {},
   "source": [
    "## Intento leer 30 documentos , y actualizar el id en base maximo id recuperado de la bbdd\n",
    "\n",
    "###  select max(c.id) from c \n",
    "###  item['id'] += 1 \n",
    "### "
   ]
  },
  {
   "cell_type": "code",
   "execution_count": 3,
   "id": "144b78be",
   "metadata": {},
   "outputs": [
    {
     "ename": "NameError",
     "evalue": "name 'container' is not defined",
     "output_type": "error",
     "traceback": [
      "\u001b[1;31m---------------------------------------------------------------------------\u001b[0m",
      "\u001b[1;31mNameError\u001b[0m                                 Traceback (most recent call last)",
      "Input \u001b[1;32mIn [3]\u001b[0m, in \u001b[0;36m<cell line: 5>\u001b[1;34m()\u001b[0m\n\u001b[0;32m      2\u001b[0m query \u001b[38;5;241m=\u001b[39m \u001b[38;5;124m\"\u001b[39m\u001b[38;5;124mSELECT VALUE COUNT(1) FROM c \u001b[39m\u001b[38;5;124m\"\u001b[39m\n\u001b[0;32m      4\u001b[0m \u001b[38;5;66;03m# Execute the query and get the result\u001b[39;00m\n\u001b[1;32m----> 5\u001b[0m result \u001b[38;5;241m=\u001b[39m \u001b[43mcontainer\u001b[49m\u001b[38;5;241m.\u001b[39mquery_items(query\u001b[38;5;241m=\u001b[39mquery, enable_cross_partition_query\u001b[38;5;241m=\u001b[39m\u001b[38;5;28;01mTrue\u001b[39;00m)\n\u001b[0;32m      6\u001b[0m count \u001b[38;5;241m=\u001b[39m \u001b[38;5;28mlist\u001b[39m(result)[\u001b[38;5;241m0\u001b[39m]\n\u001b[0;32m      8\u001b[0m \u001b[38;5;66;03m# Print the count\u001b[39;00m\n",
      "\u001b[1;31mNameError\u001b[0m: name 'container' is not defined"
     ]
    }
   ],
   "source": [
    "# Define a SQL query that counts all documents\n",
    "query = \"SELECT VALUE COUNT(1) FROM c \"\n",
    "\n",
    "# Execute the query and get the result\n",
    "result = container.query_items(query=query, enable_cross_partition_query=True)\n",
    "count = list(result)[0]\n",
    "\n",
    "# Print the count\n",
    "print(f\"There are {count} documents in the collection.\")"
   ]
  },
  {
   "cell_type": "code",
   "execution_count": 2,
   "id": "02d6e758",
   "metadata": {},
   "outputs": [
    {
     "ename": "NameError",
     "evalue": "name 'container' is not defined",
     "output_type": "error",
     "traceback": [
      "\u001b[1;31m---------------------------------------------------------------------------\u001b[0m",
      "\u001b[1;31mNameError\u001b[0m                                 Traceback (most recent call last)",
      "Input \u001b[1;32mIn [2]\u001b[0m, in \u001b[0;36m<cell line: 6>\u001b[1;34m()\u001b[0m\n\u001b[0;32m      2\u001b[0m query \u001b[38;5;241m=\u001b[39m \u001b[38;5;124m'\u001b[39m\u001b[38;5;124mselect max(c.id) as maxid from c\u001b[39m\u001b[38;5;124m'\u001b[39m   \n\u001b[0;32m      5\u001b[0m \u001b[38;5;66;03m# Execute the query and get the result\u001b[39;00m\n\u001b[1;32m----> 6\u001b[0m result \u001b[38;5;241m=\u001b[39m \u001b[43mcontainer\u001b[49m\u001b[38;5;241m.\u001b[39mquery_items(query\u001b[38;5;241m=\u001b[39mquery, enable_cross_partition_query\u001b[38;5;241m=\u001b[39m\u001b[38;5;28;01mTrue\u001b[39;00m)\n\u001b[0;32m      9\u001b[0m \u001b[38;5;66;03m#maxidcalculated = item['c.id']\u001b[39;00m\n\u001b[0;32m     10\u001b[0m \u001b[38;5;66;03m# Print the result\u001b[39;00m\n\u001b[0;32m     11\u001b[0m \u001b[38;5;66;03m#print(f\"There are {item['_ts']} documents in the collection with _ts =1674043294\")\u001b[39;00m\n\u001b[1;32m   (...)\u001b[0m\n\u001b[0;32m     26\u001b[0m \n\u001b[0;32m     27\u001b[0m \u001b[38;5;66;03m#result_list = list(result)\u001b[39;00m\n\u001b[0;32m     28\u001b[0m \u001b[38;5;28mprint\u001b[39m(result_list)\n",
      "\u001b[1;31mNameError\u001b[0m: name 'container' is not defined"
     ]
    }
   ],
   "source": [
    "# Define a SQL query that counts all documents\n",
    "query = 'select max(c.id) as maxid from c'   \n",
    "\n",
    "\n",
    "# Execute the query and get the result\n",
    "result = container.query_items(query=query, enable_cross_partition_query=True)\n",
    "\n",
    "\n",
    "#maxidcalculated = item['c.id']\n",
    "# Print the result\n",
    "#print(f\"There are {item['_ts']} documents in the collection with _ts =1674043294\")\n",
    "#print(item['c.id'])\n",
    "\n",
    "\n",
    "#query = 'select top 10 c.url,c.date,c.content, c.renderedcontent, c.id, c.user ,c._rid_ ,c._self, \\\n",
    "#c._etag_, c._attachments,c._ts from c'  \n",
    "\n",
    "#result = container.query_items(query=query, enable_cross_partition_query=True)\n",
    "\n",
    "#for item in result:\n",
    "#    print(result_list)\n",
    "#  current_date = time.strftime('%Y-%m-%d %H:%M:%S', time.localtime(item['_ts']))\n",
    "  #print(( f\" Doc id y epoch caducidad: {item['repes'], item['_ts']}\"))\n",
    "#  print( f\" Repeticiones:  {item['repes']} y fecha caducidad:{current_date}\")\n",
    "  #print((item['repes'], item['_ts']))\n",
    "\n",
    "#result_list = list(result)\n",
    "print(result_list)\n",
    "print(item['id'])"
   ]
  },
  {
   "cell_type": "code",
   "execution_count": 11,
   "id": "211445cb",
   "metadata": {},
   "outputs": [
    {
     "name": "stdout",
     "output_type": "stream",
     "text": [
      "Database with id 'ToDoList' was found\n",
      "Container with id 'Items' was found\n",
      "\n",
      "run_sample done\n"
     ]
    },
    {
     "ename": "NameError",
     "evalue": "name 'scale_container' is not defined",
     "output_type": "error",
     "traceback": [
      "\u001b[1;31m---------------------------------------------------------------------------\u001b[0m",
      "\u001b[1;31mNameError\u001b[0m                                 Traceback (most recent call last)",
      "Input \u001b[1;32mIn [11]\u001b[0m, in \u001b[0;36m<cell line: 137>\u001b[1;34m()\u001b[0m\n\u001b[0;32m    134\u001b[0m             \u001b[38;5;28mprint\u001b[39m(\u001b[38;5;124m\"\u001b[39m\u001b[38;5;130;01m\\n\u001b[39;00m\u001b[38;5;124mrun_sample done\u001b[39m\u001b[38;5;124m\"\u001b[39m)\n\u001b[0;32m    137\u001b[0m \u001b[38;5;28;01mif\u001b[39;00m \u001b[38;5;18m__name__\u001b[39m \u001b[38;5;241m==\u001b[39m \u001b[38;5;124m'\u001b[39m\u001b[38;5;124m__main__\u001b[39m\u001b[38;5;124m'\u001b[39m:\n\u001b[1;32m--> 138\u001b[0m     \u001b[43mrun_sample\u001b[49m\u001b[43m(\u001b[49m\u001b[43m)\u001b[49m\n",
      "Input \u001b[1;32mIn [11]\u001b[0m, in \u001b[0;36mrun_sample\u001b[1;34m()\u001b[0m\n\u001b[0;32m    111\u001b[0m     container \u001b[38;5;241m=\u001b[39m db\u001b[38;5;241m.\u001b[39mget_container_client(CONTAINER_ID)\n\u001b[0;32m    112\u001b[0m     \u001b[38;5;28mprint\u001b[39m(\u001b[38;5;124m'\u001b[39m\u001b[38;5;124mContainer with id \u001b[39m\u001b[38;5;130;01m\\'\u001b[39;00m\u001b[38;5;132;01m{0}\u001b[39;00m\u001b[38;5;130;01m\\'\u001b[39;00m\u001b[38;5;124m was found\u001b[39m\u001b[38;5;124m'\u001b[39m\u001b[38;5;241m.\u001b[39mformat(CONTAINER_ID))\n\u001b[1;32m--> 114\u001b[0m \u001b[43mscale_container\u001b[49m(container)\n\u001b[0;32m    115\u001b[0m create_items(container)\n\u001b[0;32m    116\u001b[0m read_item(container, \u001b[38;5;124m'\u001b[39m\u001b[38;5;124mSalesOrder1\u001b[39m\u001b[38;5;124m'\u001b[39m, \u001b[38;5;124m'\u001b[39m\u001b[38;5;124mAccount1\u001b[39m\u001b[38;5;124m'\u001b[39m)\n",
      "\u001b[1;31mNameError\u001b[0m: name 'scale_container' is not defined"
     ]
    }
   ],
   "source": [
    "\n",
    "def query_items(container, account_number):\n",
    "    print('\\nQuerying for an  Item by Partition Key\\n')\n",
    "\n",
    "    # Including the partition key value of account_number in the WHERE filter results in a more efficient query\n",
    "    items = list(container.query_items(\n",
    "        query=\"SELECT * FROM r WHERE r.partitionKey=@account_number\",\n",
    "        parameters=[\n",
    "            { \"name\":\"@account_number\", \"value\": account_number }\n",
    "        ]\n",
    "    ))\n",
    "\n",
    "    print('Item queried by Partition Key {0}'.format(items[0].get(\"id\")))\n",
    "\n",
    "\n",
    "def replace_item(container, doc_id, account_number):\n",
    "    print('\\nReplace an Item\\n')\n",
    "\n",
    "    read_item = container.read_item(item=doc_id, partition_key=account_number)\n",
    "    read_item['subtotal'] = read_item['subtotal'] + 1\n",
    "    response = container.replace_item(item=read_item, body=read_item)\n",
    "\n",
    "    print('Replaced Item\\'s Id is {0}, new subtotal={1}'.format(response['id'], response['subtotal']))\n",
    "\n",
    "\n",
    "def upsert_item(container, doc_id, account_number):\n",
    "    print('\\nUpserting an item\\n')\n",
    "\n",
    "    read_item = container.read_item(item=doc_id, partition_key=account_number)\n",
    "    read_item['subtotal'] = read_item['subtotal'] + 1\n",
    "    response = container.upsert_item(body=read_item)\n",
    "\n",
    "    print('Upserted Item\\'s Id is {0}, new subtotal={1}'.format(response['id'], response['subtotal']))\n",
    "\n",
    "\n",
    "#def delete_item(container, doc_id, account_number):\n",
    " #   print('\\nDeleting Item by Id\\n')\n",
    "\n",
    "  #  response = container.delete_item(item=doc_id, partition_key=account_number)\n",
    "\n",
    "   # print('Deleted item\\'s Id is {0}'.format(doc_id))\n",
    "\n",
    "\n",
    "def get_sales_order(item_id):\n",
    "    order1 = {'id' : item_id,\n",
    "            'partitionKey' : 'Account1',\n",
    "            'purchase_order_number' : 'PO18009186470',\n",
    "            'order_date' : datetime.date(2005,1,10).strftime('%c'),\n",
    "            'subtotal' : 419.4589,\n",
    "            'tax_amount' : 12.5838,\n",
    "            'freight' : 472.3108,\n",
    "            'total_due' : 985.018,\n",
    "            'items' : [\n",
    "                {'order_qty' : 1,\n",
    "                    'product_id' : 100,\n",
    "                    'unit_price' : 418.4589,\n",
    "                    'line_price' : 418.4589\n",
    "                }\n",
    "                ],\n",
    "            'ttl' : 60 * 60 * 24 * 30\n",
    "            }\n",
    "\n",
    "    return order1\n",
    "\n",
    "\n",
    "def get_sales_order_v2(item_id):\n",
    "    # notice new fields have been added to the sales order\n",
    "    order2 = {'id' : item_id,\n",
    "            'partitionKey' : 'Account2',\n",
    "            'purchase_order_number' : 'PO15428132599',\n",
    "            'order_date' : datetime.date(2005,7,11).strftime('%c'),\n",
    "            'due_date' : datetime.date(2005,7,21).strftime('%c'),\n",
    "            'shipped_date' : datetime.date(2005,7,15).strftime('%c'),\n",
    "            'subtotal' : 6107.0820,\n",
    "            'tax_amount' : 586.1203,\n",
    "            'freight' : 183.1626,\n",
    "            'discount_amt' : 1982.872,\n",
    "            'total_due' : 4893.3929,\n",
    "            'items' : [\n",
    "                {'order_qty' : 3,\n",
    "                    'product_code' : 'A-123',      # notice how in item details we no longer reference a ProductId\n",
    "                    'product_name' : 'Product 1',  # instead we have decided to denormalise our schema and include\n",
    "                    'currency_symbol' : '$',       # the Product details relevant to the Order on to the Order directly\n",
    "                    'currency_code' : 'USD',       # this is a typical refactor that happens in the course of an application\n",
    "                    'unit_price' : 17.1,           # that would have previously required schema changes and data migrations etc.\n",
    "                    'line_price' : 5.7\n",
    "                }\n",
    "                ],\n",
    "            'ttl' : 60 * 60 * 24 * 30\n",
    "            }\n",
    "\n",
    "    return order2\n",
    "\n",
    "def run_sample():\n",
    "    client = cosmos_client.CosmosClient(HOST, {'masterKey': MASTER_KEY}, user_agent=\"CosmosDBPythonQuickstart\", user_agent_overwrite=True)\n",
    "    try:\n",
    "        # setup database for this sample\n",
    "        try:\n",
    "            db = client.create_database(id=DATABASE_ID)\n",
    "            print('Database with id \\'{0}\\' created'.format(DATABASE_ID))\n",
    "\n",
    "        except exceptions.CosmosResourceExistsError:\n",
    "            db = client.get_database_client(DATABASE_ID)\n",
    "            print('Database with id \\'{0}\\' was found'.format(DATABASE_ID))\n",
    "\n",
    "        # setup container for this sample\n",
    "        try:\n",
    "            container = db.create_container(id=CONTAINER_ID, partition_key=PartitionKey(path='/partitionKey'))\n",
    "            print('Container with id \\'{0}\\' created'.format(CONTAINER_ID))\n",
    "\n",
    "        except exceptions.CosmosResourceExistsError:\n",
    "            container = db.get_container_client(CONTAINER_ID)\n",
    "            print('Container with id \\'{0}\\' was found'.format(CONTAINER_ID))\n",
    "\n",
    "        scale_container(container)\n",
    "        create_items(container)\n",
    "        read_item(container, 'SalesOrder1', 'Account1')\n",
    "        read_items(container)\n",
    "        query_items(container, 'Account1')\n",
    "        replace_item(container, 'SalesOrder1', 'Account1')\n",
    "        upsert_item(container, 'SalesOrder1', 'Account1')\n",
    "        delete_item(container, 'SalesOrder1', 'Account1')\n",
    "\n",
    "        # cleanup database after sample\n",
    "        try:\n",
    "            client.delete_database(db)\n",
    "\n",
    "        except exceptions.CosmosResourceNotFoundError:\n",
    "            pass\n",
    "\n",
    "    except exceptions.CosmosHttpResponseError as e:\n",
    "        print('\\nrun_sample has caught an error. {0}'.format(e.message))\n",
    "\n",
    "    finally:\n",
    "            print(\"\\nrun_sample done\")\n",
    "\n",
    "\n",
    "if __name__ == '__main__':\n",
    "    run_sample()\n"
   ]
  }
 ],
 "metadata": {
  "kernelspec": {
   "display_name": "Python 3 (ipykernel)",
   "language": "python",
   "name": "python3"
  },
  "language_info": {
   "codemirror_mode": {
    "name": "ipython",
    "version": 3
   },
   "file_extension": ".py",
   "mimetype": "text/x-python",
   "name": "python",
   "nbconvert_exporter": "python",
   "pygments_lexer": "ipython3",
   "version": "3.9.12"
  }
 },
 "nbformat": 4,
 "nbformat_minor": 5
}
